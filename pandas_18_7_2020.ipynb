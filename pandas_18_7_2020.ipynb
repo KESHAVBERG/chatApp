{
  "nbformat": 4,
  "nbformat_minor": 0,
  "metadata": {
    "colab": {
      "name": "pandas/18/7/2020.ipynb",
      "provenance": [],
      "include_colab_link": true
    },
    "kernelspec": {
      "name": "python3",
      "display_name": "Python 3"
    }
  },
  "cells": [
    {
      "cell_type": "markdown",
      "metadata": {
        "id": "view-in-github",
        "colab_type": "text"
      },
      "source": [
        "<a href=\"https://colab.research.google.com/github/KESHAVBERG/chatApp/blob/master/pandas_18_7_2020.ipynb\" target=\"_parent\"><img src=\"https://colab.research.google.com/assets/colab-badge.svg\" alt=\"Open In Colab\"/></a>"
      ]
    },
    {
      "cell_type": "code",
      "metadata": {
        "id": "MsuwoadobuEo",
        "colab_type": "code",
        "colab": {}
      },
      "source": [
        "import numpy as np\n",
        "import pandas as pd"
      ],
      "execution_count": null,
      "outputs": []
    },
    {
      "cell_type": "markdown",
      "metadata": {
        "id": "KHniztvCcyy9",
        "colab_type": "text"
      },
      "source": [
        "#creating series"
      ]
    },
    {
      "cell_type": "code",
      "metadata": {
        "id": "TBBrhN1xfH-O",
        "colab_type": "code",
        "colab": {}
      },
      "source": [
        "s= pd.Series([1,2,3,4,5,6])"
      ],
      "execution_count": null,
      "outputs": []
    },
    {
      "cell_type": "code",
      "metadata": {
        "id": "yj9F9dXxfcLJ",
        "colab_type": "code",
        "colab": {}
      },
      "source": [
        "s"
      ],
      "execution_count": null,
      "outputs": []
    },
    {
      "cell_type": "code",
      "metadata": {
        "id": "w9uoqWm5iDhf",
        "colab_type": "code",
        "colab": {}
      },
      "source": [
        "s.values"
      ],
      "execution_count": null,
      "outputs": []
    },
    {
      "cell_type": "code",
      "metadata": {
        "id": "bekhZ7BLiIFf",
        "colab_type": "code",
        "colab": {}
      },
      "source": [
        "s.index"
      ],
      "execution_count": null,
      "outputs": []
    },
    {
      "cell_type": "code",
      "metadata": {
        "id": "j8gvZMwyiydG",
        "colab_type": "code",
        "colab": {}
      },
      "source": [
        "for v in s.values:\n",
        "  print(v)"
      ],
      "execution_count": null,
      "outputs": []
    },
    {
      "cell_type": "code",
      "metadata": {
        "id": "jGrL70fIjCHW",
        "colab_type": "code",
        "colab": {}
      },
      "source": [
        "for i in s.index:\n",
        "  print(i)"
      ],
      "execution_count": null,
      "outputs": []
    },
    {
      "cell_type": "code",
      "metadata": {
        "id": "MqCaaJkBjH9W",
        "colab_type": "code",
        "colab": {}
      },
      "source": [
        "for i in zip(s.index , s.values):\n",
        "  print(i)"
      ],
      "execution_count": null,
      "outputs": []
    },
    {
      "cell_type": "code",
      "metadata": {
        "id": "HdtkLWPbjPFm",
        "colab_type": "code",
        "colab": {}
      },
      "source": [
        "for i in s.index:\n",
        "  print(s.values[i])"
      ],
      "execution_count": null,
      "outputs": []
    },
    {
      "cell_type": "code",
      "metadata": {
        "id": "vt567O3GjYgW",
        "colab_type": "code",
        "colab": {}
      },
      "source": [
        "me = pd.Series([170,72,\"keshav\"] , index=[\"height\" , \"weight\",\"name\"])"
      ],
      "execution_count": null,
      "outputs": []
    },
    {
      "cell_type": "code",
      "metadata": {
        "id": "Nh-GZ8N8jjIV",
        "colab_type": "code",
        "colab": {}
      },
      "source": [
        "me[\"name\"]"
      ],
      "execution_count": null,
      "outputs": []
    },
    {
      "cell_type": "code",
      "metadata": {
        "id": "eDC5gmAOl_kp",
        "colab_type": "code",
        "colab": {}
      },
      "source": [
        "array = np.random.randint(0,10,10)"
      ],
      "execution_count": null,
      "outputs": []
    },
    {
      "cell_type": "code",
      "metadata": {
        "id": "IrqBi0y8nE17",
        "colab_type": "code",
        "colab": {}
      },
      "source": [
        "array"
      ],
      "execution_count": null,
      "outputs": []
    },
    {
      "cell_type": "code",
      "metadata": {
        "id": "lXyfUCK6nGAJ",
        "colab_type": "code",
        "colab": {}
      },
      "source": [
        "arrPanda = pd.Series(array)"
      ],
      "execution_count": null,
      "outputs": []
    },
    {
      "cell_type": "code",
      "metadata": {
        "id": "Jmz_iAjUnPKJ",
        "colab_type": "code",
        "colab": {}
      },
      "source": [
        "arrPanda"
      ],
      "execution_count": null,
      "outputs": []
    },
    {
      "cell_type": "code",
      "metadata": {
        "id": "QjfTVdLunQFy",
        "colab_type": "code",
        "colab": {}
      },
      "source": [
        "dic = {}\n",
        "\n",
        "dic[\"name\"] = me[\"name\"]\n",
        "dic[\"height\"] = me[\"height\"]"
      ],
      "execution_count": null,
      "outputs": []
    },
    {
      "cell_type": "code",
      "metadata": {
        "id": "fjMbEB8XobN5",
        "colab_type": "code",
        "colab": {}
      },
      "source": [
        "dic"
      ],
      "execution_count": null,
      "outputs": []
    },
    {
      "cell_type": "code",
      "metadata": {
        "id": "A1cmCvNnob0p",
        "colab_type": "code",
        "colab": {}
      },
      "source": [
        "me_with_n_w_only = pd.Series(dic)"
      ],
      "execution_count": null,
      "outputs": []
    },
    {
      "cell_type": "code",
      "metadata": {
        "id": "HQ_75H5XojAJ",
        "colab_type": "code",
        "colab": {}
      },
      "source": [
        "me_with_n_w_only"
      ],
      "execution_count": null,
      "outputs": []
    },
    {
      "cell_type": "markdown",
      "metadata": {
        "id": "s234bVPvs457",
        "colab_type": "text"
      },
      "source": [
        "# loc and iloc"
      ]
    },
    {
      "cell_type": "code",
      "metadata": {
        "id": "DUqog9FGokkp",
        "colab_type": "code",
        "colab": {}
      },
      "source": [
        "a = pd.Series([1,2,3,4,5,6] , index=[1,2,3,4,5,6])"
      ],
      "execution_count": null,
      "outputs": []
    },
    {
      "cell_type": "code",
      "metadata": {
        "id": "Bg99OcvktIhA",
        "colab_type": "code",
        "colab": {}
      },
      "source": [
        "a"
      ],
      "execution_count": null,
      "outputs": []
    },
    {
      "cell_type": "code",
      "metadata": {
        "id": "qWlOUYYttI-H",
        "colab_type": "code",
        "colab": {}
      },
      "source": [
        "a.loc[4]\n",
        "\n",
        "# loc -> index we specified "
      ],
      "execution_count": null,
      "outputs": []
    },
    {
      "cell_type": "code",
      "metadata": {
        "id": "hBriN2m5tMBX",
        "colab_type": "code",
        "colab": {}
      },
      "source": [
        "a.iloc[4]\n",
        "# iloc -> standrad value of index or the usuall way of indexing in list"
      ],
      "execution_count": null,
      "outputs": []
    },
    {
      "cell_type": "markdown",
      "metadata": {
        "id": "D-DoBmhYvCmW",
        "colab_type": "text"
      },
      "source": [
        "# simple operation with pandas "
      ]
    },
    {
      "cell_type": "code",
      "metadata": {
        "id": "0E48j9m5tQ1P",
        "colab_type": "code",
        "colab": {}
      },
      "source": [
        "mass = pd.Series([5.9,1.02,5.68,6.39,3.28,1.89] \n",
        "                 , index=[\"earth\",\"neptune\",\"satun\",\"mars\",\"mercury\",\"jupiter\"])"
      ],
      "execution_count": null,
      "outputs": []
    },
    {
      "cell_type": "code",
      "metadata": {
        "id": "oOSqEhb3v5uv",
        "colab_type": "code",
        "colab": {}
      },
      "source": [
        "mass[\"earth\"]"
      ],
      "execution_count": null,
      "outputs": []
    },
    {
      "cell_type": "markdown",
      "metadata": {
        "id": "oruUvG610v0O",
        "colab_type": "text"
      },
      "source": [
        "### my plAY"
      ]
    },
    {
      "cell_type": "code",
      "metadata": {
        "id": "3kzq39FIxAg_",
        "colab_type": "code",
        "colab": {}
      },
      "source": [
        "for i in mass.index:\n",
        "  if i != \"earth\" and i!= \"mars\":\n",
        "    print(i , mass[i])"
      ],
      "execution_count": null,
      "outputs": []
    },
    {
      "cell_type": "code",
      "metadata": {
        "id": "QKZjl9tQznsJ",
        "colab_type": "code",
        "colab": {}
      },
      "source": [
        "ind = [0,1,2,3,4,5]"
      ],
      "execution_count": null,
      "outputs": []
    },
    {
      "cell_type": "code",
      "metadata": {
        "id": "LmLZeS_R0Zbb",
        "colab_type": "code",
        "colab": {}
      },
      "source": [
        "for i in ind:\n",
        "  print(mass.iloc[2:i])"
      ],
      "execution_count": null,
      "outputs": []
    },
    {
      "cell_type": "markdown",
      "metadata": {
        "id": "Es8Liknx021D",
        "colab_type": "text"
      },
      "source": [
        "# simple operation with pandas "
      ]
    },
    {
      "cell_type": "code",
      "metadata": {
        "id": "Vfo8yBKo0e20",
        "colab_type": "code",
        "colab": {}
      },
      "source": [
        "mass > 2"
      ],
      "execution_count": null,
      "outputs": []
    },
    {
      "cell_type": "code",
      "metadata": {
        "id": "ckOH9rvT1Lob",
        "colab_type": "code",
        "colab": {}
      },
      "source": [
        "mass[mass>2]"
      ],
      "execution_count": null,
      "outputs": []
    },
    {
      "cell_type": "code",
      "metadata": {
        "id": "dxK-SHxq1PKD",
        "colab_type": "code",
        "colab": {}
      },
      "source": [
        "mass[(mass<7)&(mass>1) ]"
      ],
      "execution_count": null,
      "outputs": []
    },
    {
      "cell_type": "code",
      "metadata": {
        "id": "Qsqh1rTui6x3",
        "colab_type": "code",
        "colab": {}
      },
      "source": [
        "np.mean(mass)"
      ],
      "execution_count": null,
      "outputs": []
    },
    {
      "cell_type": "code",
      "metadata": {
        "id": "Rwi1adqekDQu",
        "colab_type": "code",
        "colab": {}
      },
      "source": [
        "np.median(mass)"
      ],
      "execution_count": null,
      "outputs": []
    },
    {
      "cell_type": "code",
      "metadata": {
        "id": "Zz_vnLY9kFV1",
        "colab_type": "code",
        "colab": {}
      },
      "source": [
        "big_mass = mass[mass>3]"
      ],
      "execution_count": null,
      "outputs": []
    },
    {
      "cell_type": "code",
      "metadata": {
        "id": "FTlTg1oPkNEe",
        "colab_type": "code",
        "colab": {}
      },
      "source": [
        "big_mass"
      ],
      "execution_count": null,
      "outputs": []
    },
    {
      "cell_type": "code",
      "metadata": {
        "id": "PXAy81Eik4l9",
        "colab_type": "code",
        "colab": {}
      },
      "source": [
        "mass"
      ],
      "execution_count": null,
      "outputs": []
    },
    {
      "cell_type": "code",
      "metadata": {
        "id": "3byMoRJok6b1",
        "colab_type": "code",
        "colab": {}
      },
      "source": [
        "new_mass = mass + big_mass"
      ],
      "execution_count": null,
      "outputs": []
    },
    {
      "cell_type": "code",
      "metadata": {
        "id": "_zTByUonlAjN",
        "colab_type": "code",
        "colab": {}
      },
      "source": [
        "new_mass"
      ],
      "execution_count": null,
      "outputs": []
    },
    {
      "cell_type": "code",
      "metadata": {
        "id": "sgvBTDnhlB21",
        "colab_type": "code",
        "colab": {}
      },
      "source": [
        "for i in new_mass.index:\n",
        "  if new_mass[i] > 6:\n",
        "    print(i , new_mass[i])"
      ],
      "execution_count": null,
      "outputs": []
    },
    {
      "cell_type": "code",
      "metadata": {
        "id": "bBrQ-ijrnExp",
        "colab_type": "code",
        "colab": {}
      },
      "source": [
        "pd.isnull(new_mass)"
      ],
      "execution_count": null,
      "outputs": []
    },
    {
      "cell_type": "code",
      "metadata": {
        "id": "4dfs7s8OlIV9",
        "colab_type": "code",
        "colab": {}
      },
      "source": [
        "for i in new_mass:\n",
        "  if pd.isnull(i) != True:\n",
        "    print(i)"
      ],
      "execution_count": null,
      "outputs": []
    },
    {
      "cell_type": "code",
      "metadata": {
        "id": "g94qPtecmUp-",
        "colab_type": "code",
        "colab": {}
      },
      "source": [
        "for j in new_mass.index:\n",
        "  if pd.isnull(new_mass[j]) != True:\n",
        "    print(j,new_mass[j]  , type(j))"
      ],
      "execution_count": null,
      "outputs": []
    },
    {
      "cell_type": "markdown",
      "metadata": {
        "id": "I0xgpwBooEI0",
        "colab_type": "text"
      },
      "source": [
        " # task 1 my way"
      ]
    },
    {
      "cell_type": "markdown",
      "metadata": {
        "id": "dLGPR55SoJl2",
        "colab_type": "text"
      },
      "source": [
        "given the mass and density of the planets compute it's desity"
      ]
    },
    {
      "cell_type": "code",
      "metadata": {
        "id": "ZexJIBb4mejs",
        "colab_type": "code",
        "colab": {}
      },
      "source": [
        "mass = pd.Series([5.97,1.02, 8.68,5.68,6.39,4.86,3.28,1.89],\n",
        "                 index = [\"earth\" , \"neptune\",\"uranus\" , \"satan\" , \"mars\",\"venus\",\"mercury\",\"jupiter\"])"
      ],
      "execution_count": null,
      "outputs": []
    },
    {
      "cell_type": "code",
      "metadata": {
        "id": "DSQqycHGo2FH",
        "colab_type": "code",
        "colab": {}
      },
      "source": [
        "mass"
      ],
      "execution_count": null,
      "outputs": []
    },
    {
      "cell_type": "code",
      "metadata": {
        "id": "kHnAuB4-o23T",
        "colab_type": "code",
        "colab": {}
      },
      "source": [
        "radius = pd.Series([6378.1,24764,25559,60268,3396.2,6051.8,2439.7,71492],\n",
        "                 index = [\"earth\" , \"neptune\",\"uranus\" , \"satan\" , \"mars\",\"venus\",\"mercury\",\"jupiter\"])"
      ],
      "execution_count": null,
      "outputs": []
    },
    {
      "cell_type": "code",
      "metadata": {
        "id": "a0Ww3DmVprhc",
        "colab_type": "code",
        "colab": {}
      },
      "source": [
        "radius"
      ],
      "execution_count": null,
      "outputs": []
    },
    {
      "cell_type": "code",
      "metadata": {
        "id": "2Romr3OVp0gf",
        "colab_type": "code",
        "colab": {}
      },
      "source": [
        "volume = (4/3)*3.14*radius**3"
      ],
      "execution_count": null,
      "outputs": []
    },
    {
      "cell_type": "code",
      "metadata": {
        "id": "AkS1bbV3qTeM",
        "colab_type": "code",
        "colab": {}
      },
      "source": [
        "volume"
      ],
      "execution_count": null,
      "outputs": []
    },
    {
      "cell_type": "code",
      "metadata": {
        "id": "nPIHBZnYl0Js",
        "colab_type": "code",
        "colab": {}
      },
      "source": [
        "density = pd.Series()"
      ],
      "execution_count": null,
      "outputs": []
    },
    {
      "cell_type": "code",
      "metadata": {
        "id": "mGt-tEMCqUzK",
        "colab_type": "code",
        "colab": {}
      },
      "source": [
        "for i in volume.index:\n",
        "  densi = []\n",
        "  den = mass[i]/volume[i]\n",
        "  density[i]=den\n",
        "  print(den)"
      ],
      "execution_count": null,
      "outputs": []
    },
    {
      "cell_type": "code",
      "metadata": {
        "id": "jcaHv0BHqjmK",
        "colab_type": "code",
        "colab": {}
      },
      "source": [
        "density"
      ],
      "execution_count": null,
      "outputs": []
    },
    {
      "cell_type": "markdown",
      "metadata": {
        "id": "jrjM5ep1pV73",
        "colab_type": "text"
      },
      "source": [
        "# task 1 thier way"
      ]
    },
    {
      "cell_type": "code",
      "metadata": {
        "id": "wa9S05R6oBXb",
        "colab_type": "code",
        "colab": {}
      },
      "source": [
        "# effecient way\n",
        "denstiy = mass/volume\n"
      ],
      "execution_count": null,
      "outputs": []
    },
    {
      "cell_type": "code",
      "metadata": {
        "id": "C-n_TwEXseyS",
        "colab_type": "code",
        "colab": {}
      },
      "source": [
        "denstiy"
      ],
      "execution_count": null,
      "outputs": []
    },
    {
      "cell_type": "markdown",
      "metadata": {
        "id": "QVwoJkUYuJtR",
        "colab_type": "text"
      },
      "source": [
        "# task 2"
      ]
    },
    {
      "cell_type": "markdown",
      "metadata": {
        "id": "pObTfID0uE9A",
        "colab_type": "text"
      },
      "source": [
        "**task 2**\n",
        "\n",
        "if there are any nan value replace it by the mean desity of all planet"
      ]
    },
    {
      "cell_type": "code",
      "metadata": {
        "id": "XSE_XHvZt7k_",
        "colab_type": "code",
        "colab": {}
      },
      "source": [
        "mass = pd.Series([5.97,1.02, 8.68,5.68,6.39,4.86,3.28,1.89],\n",
        "                 index = [\"earth\" , \"neptune\",\"uranus\" , \"satan\" , \"mars\",\"venus\",\"mercury\",\"jupiter\"])"
      ],
      "execution_count": null,
      "outputs": []
    },
    {
      "cell_type": "code",
      "metadata": {
        "id": "RzGnih4Mwf8x",
        "colab_type": "code",
        "colab": {}
      },
      "source": [
        "radius = pd.Series([6378.1,24764,25559,60268,3396.2,6051.8,2439.7,71492],\n",
        "                 index = [\"earth\" , \"neptune\",\"uranus\" , \"satan\" , \"mars\",\"venus\",\"mercury\",\"jupiter\"])"
      ],
      "execution_count": null,
      "outputs": []
    },
    {
      "cell_type": "code",
      "metadata": {
        "id": "C7NhXAsYwjlu",
        "colab_type": "code",
        "colab": {}
      },
      "source": [
        "volume = (4/3)*3.14*radius**3"
      ],
      "execution_count": null,
      "outputs": []
    },
    {
      "cell_type": "code",
      "metadata": {
        "id": "MgT8DKnj8OX-",
        "colab_type": "code",
        "colab": {}
      },
      "source": [
        "density = mass/volume"
      ],
      "execution_count": null,
      "outputs": []
    },
    {
      "cell_type": "code",
      "metadata": {
        "id": "R_49hZLm8R3F",
        "colab_type": "code",
        "colab": {}
      },
      "source": [
        "density"
      ],
      "execution_count": null,
      "outputs": []
    },
    {
      "cell_type": "code",
      "metadata": {
        "id": "sp33iLmt8Tsl",
        "colab_type": "code",
        "colab": {}
      },
      "source": [
        "mass[\"planetX\"] = 6"
      ],
      "execution_count": null,
      "outputs": []
    },
    {
      "cell_type": "code",
      "metadata": {
        "id": "1TqOUQjH8mU8",
        "colab_type": "code",
        "colab": {}
      },
      "source": [
        "mass[\"planetY\"] =7"
      ],
      "execution_count": null,
      "outputs": []
    },
    {
      "cell_type": "code",
      "metadata": {
        "id": "uwbpWphQ8p1d",
        "colab_type": "code",
        "colab": {}
      },
      "source": [
        "mass"
      ],
      "execution_count": null,
      "outputs": []
    },
    {
      "cell_type": "code",
      "metadata": {
        "id": "yIdWoM7M8qmd",
        "colab_type": "code",
        "colab": {}
      },
      "source": [
        "densityWithChangedMass = mass/volume"
      ],
      "execution_count": null,
      "outputs": []
    },
    {
      "cell_type": "code",
      "metadata": {
        "id": "1C_NuiXH8wod",
        "colab_type": "code",
        "colab": {}
      },
      "source": [
        "densityWithChangedMass"
      ],
      "execution_count": null,
      "outputs": []
    },
    {
      "cell_type": "code",
      "metadata": {
        "id": "fnxwGMOU8x7V",
        "colab_type": "code",
        "colab": {}
      },
      "source": [
        "meandensitywithchsngedMass = np.mean(densityWithChangedMass)"
      ],
      "execution_count": null,
      "outputs": []
    },
    {
      "cell_type": "code",
      "metadata": {
        "id": "3WpxqMe786uE",
        "colab_type": "code",
        "colab": {}
      },
      "source": [
        "meandensitywithchsngedMass"
      ],
      "execution_count": null,
      "outputs": []
    },
    {
      "cell_type": "code",
      "metadata": {
        "id": "Gpf3l_-i88fl",
        "colab_type": "code",
        "colab": {}
      },
      "source": [
        "fillednan=densityWithChangedMass.fillna(meandensitywithchsngedMass)\n",
        "\n",
        "  \n",
        " "
      ],
      "execution_count": null,
      "outputs": []
    },
    {
      "cell_type": "code",
      "metadata": {
        "id": "-5YphlDa9yus",
        "colab_type": "code",
        "colab": {}
      },
      "source": [
        "fillednan"
      ],
      "execution_count": null,
      "outputs": []
    },
    {
      "cell_type": "code",
      "metadata": {
        "id": "dA-zYNSy91Ad",
        "colab_type": "code",
        "colab": {}
      },
      "source": [
        "densityWithChangedMass[pd.isnull(densityWithChangedMass)] = meandensityWithChangedMass"
      ],
      "execution_count": null,
      "outputs": []
    },
    {
      "cell_type": "code",
      "metadata": {
        "id": "Re_3hRs9FKz7",
        "colab_type": "code",
        "colab": {}
      },
      "source": [
        "densityWithChangedMass"
      ],
      "execution_count": null,
      "outputs": []
    },
    {
      "cell_type": "code",
      "metadata": {
        "id": "QPtHpJwLFWH8",
        "colab_type": "code",
        "colab": {}
      },
      "source": [
        ""
      ],
      "execution_count": null,
      "outputs": []
    },
    {
      "cell_type": "markdown",
      "metadata": {
        "id": "fVPhE8y2F3u2",
        "colab_type": "text"
      },
      "source": [
        "## task 3"
      ]
    },
    {
      "cell_type": "markdown",
      "metadata": {
        "id": "vDMnnsNoF7pb",
        "colab_type": "text"
      },
      "source": [
        "* checking if some key is present \n",
        "* summing values \n",
        "*  computing std\n",
        "\n"
      ]
    },
    {
      "cell_type": "markdown",
      "metadata": {
        "id": "6GJHaoK5GLPL",
        "colab_type": "text"
      },
      "source": [
        "### chenking is some key is present"
      ]
    },
    {
      "cell_type": "code",
      "metadata": {
        "id": "pTZa9bV6F67E",
        "colab_type": "code",
        "colab": {}
      },
      "source": [
        "fillednan"
      ],
      "execution_count": null,
      "outputs": []
    },
    {
      "cell_type": "code",
      "metadata": {
        "id": "LhRBEIuOGgvl",
        "colab_type": "code",
        "colab": {}
      },
      "source": [
        "densityWithChangedMass"
      ],
      "execution_count": null,
      "outputs": []
    },
    {
      "cell_type": "code",
      "metadata": {
        "id": "e0OBTWZ-GkOT",
        "colab_type": "code",
        "colab": {}
      },
      "source": [
        ""
      ],
      "execution_count": null,
      "outputs": []
    },
    {
      "cell_type": "code",
      "metadata": {
        "id": "vWUwlCpTGyR8",
        "colab_type": "code",
        "colab": {}
      },
      "source": [
        ""
      ],
      "execution_count": null,
      "outputs": []
    },
    {
      "cell_type": "markdown",
      "metadata": {
        "id": "CkKkENVkHDh_",
        "colab_type": "text"
      },
      "source": [
        "### computing std"
      ]
    },
    {
      "cell_type": "code",
      "metadata": {
        "id": "p99OhjF6HIrb",
        "colab_type": "code",
        "colab": {}
      },
      "source": [
        "np.std(densityWithChangedMass)"
      ],
      "execution_count": null,
      "outputs": []
    },
    {
      "cell_type": "markdown",
      "metadata": {
        "id": "fvdcW9tPHgdL",
        "colab_type": "text"
      },
      "source": [
        "### summing values"
      ]
    },
    {
      "cell_type": "code",
      "metadata": {
        "id": "otSb7WihHdsV",
        "colab_type": "code",
        "colab": {}
      },
      "source": [
        "np.sum(densityWithChangedMass)"
      ],
      "execution_count": null,
      "outputs": []
    },
    {
      "cell_type": "code",
      "metadata": {
        "id": "B-CaEERHHlDL",
        "colab_type": "code",
        "colab": {}
      },
      "source": [
        ""
      ],
      "execution_count": null,
      "outputs": []
    },
    {
      "cell_type": "markdown",
      "metadata": {
        "id": "IomBisVNnX7q",
        "colab_type": "text"
      },
      "source": [
        "#nifty case Study"
      ]
    },
    {
      "cell_type": "markdown",
      "metadata": {
        "id": "RBkvXvnimL7N",
        "colab_type": "text"
      },
      "source": [
        "### to check the days in which there is increase than the prevous day(my way)"
      ]
    },
    {
      "cell_type": "code",
      "metadata": {
        "id": "mAZY-ygvnb0t",
        "colab_type": "code",
        "colab": {}
      },
      "source": [
        "nifty = pd.read_csv(\"nifty.csv\" , index_col=0).iloc[:,0]"
      ],
      "execution_count": null,
      "outputs": []
    },
    {
      "cell_type": "code",
      "metadata": {
        "id": "xdoNqyUJnmmw",
        "colab_type": "code",
        "colab": {}
      },
      "source": [
        "type(nifty)"
      ],
      "execution_count": null,
      "outputs": []
    },
    {
      "cell_type": "code",
      "metadata": {
        "id": "MlBeKzNXsjwE",
        "colab_type": "code",
        "colab": {}
      },
      "source": [
        "lis = []"
      ],
      "execution_count": null,
      "outputs": []
    },
    {
      "cell_type": "code",
      "metadata": {
        "id": "QQrj1A_hrgc4",
        "colab_type": "code",
        "colab": {}
      },
      "source": [
        "for i in nifty.values:\n",
        "  lis.append(i)\n"
      ],
      "execution_count": null,
      "outputs": []
    },
    {
      "cell_type": "code",
      "metadata": {
        "id": "1lssEoWJuCTj",
        "colab_type": "code",
        "colab": {}
      },
      "source": [
        "countlist = []"
      ],
      "execution_count": null,
      "outputs": []
    },
    {
      "cell_type": "code",
      "metadata": {
        "id": "qApaycJ2qdMh",
        "colab_type": "code",
        "colab": {}
      },
      "source": [
        "for i in range(len(lis)):\n",
        "  count = 0\n",
        "  if lis[i-1] < lis[i]:\n",
        "    count += 1\n",
        "\n",
        "  else:\n",
        "    count = count \n",
        "  countlist.append(count)   \n",
        "  print((count))  "
      ],
      "execution_count": null,
      "outputs": []
    },
    {
      "cell_type": "code",
      "metadata": {
        "id": "aWWEg6_puMA-",
        "colab_type": "code",
        "colab": {}
      },
      "source": [
        "sum(countlist)"
      ],
      "execution_count": null,
      "outputs": []
    },
    {
      "cell_type": "markdown",
      "metadata": {
        "id": "5ZSVPYRPnR8I",
        "colab_type": "text"
      },
      "source": [
        "### to check the days in which there is increase than the prevous day(their way)"
      ]
    },
    {
      "cell_type": "code",
      "metadata": {
        "id": "WTl87MiMuOzL",
        "colab_type": "code",
        "colab": {}
      },
      "source": [
        "# taking away the first value\n",
        "nifty[1:]\n",
        "\n"
      ],
      "execution_count": null,
      "outputs": []
    },
    {
      "cell_type": "code",
      "metadata": {
        "id": "a-5vvr6ztV5Y",
        "colab_type": "code",
        "colab": {}
      },
      "source": [
        "# taking away the last value\n",
        "\n",
        "nifty[:-1]\n"
      ],
      "execution_count": null,
      "outputs": []
    },
    {
      "cell_type": "code",
      "metadata": {
        "id": "DM4WuaRPt1ik",
        "colab_type": "code",
        "colab": {}
      },
      "source": [
        "# when we subtract between them we get jan2 - jan1\n",
        "dif = nifty.values[1:] - nifty.values[:-1]"
      ],
      "execution_count": null,
      "outputs": []
    },
    {
      "cell_type": "code",
      "metadata": {
        "id": "WJl3m4xnuKDr",
        "colab_type": "code",
        "colab": {}
      },
      "source": [
        "sum(dif>0)"
      ],
      "execution_count": null,
      "outputs": []
    },
    {
      "cell_type": "code",
      "metadata": {
        "id": "6pko2TgaucoM",
        "colab_type": "code",
        "colab": {}
      },
      "source": [
        "sum(dif>0)/len(nifty)"
      ],
      "execution_count": null,
      "outputs": []
    },
    {
      "cell_type": "code",
      "metadata": {
        "id": "iBh-DRiUvIXz",
        "colab_type": "code",
        "colab": {}
      },
      "source": [
        ""
      ],
      "execution_count": null,
      "outputs": []
    },
    {
      "cell_type": "markdown",
      "metadata": {
        "id": "4nZ1lXAcyXo9",
        "colab_type": "text"
      },
      "source": [
        "### task \n",
        "\n",
        "\n",
        "1.  computing the moving average for last 5 days\n",
        "2.   subset the the data include only data for fridays\n",
        "\n"
      ]
    },
    {
      "cell_type": "code",
      "metadata": {
        "id": "UEdvmruJytMD",
        "colab_type": "code",
        "colab": {}
      },
      "source": [
        "new_index = map(pd.Timestamp , nifty.index)"
      ],
      "execution_count": null,
      "outputs": []
    },
    {
      "cell_type": "code",
      "metadata": {
        "id": "6LCxB6FfywNC",
        "colab_type": "code",
        "colab": {}
      },
      "source": [
        "new_nifty = pd.Series(nifty , index=new_index) "
      ],
      "execution_count": null,
      "outputs": []
    },
    {
      "cell_type": "code",
      "metadata": {
        "id": "8JbI0v8PzF4b",
        "colab_type": "code",
        "colab": {}
      },
      "source": [
        "new_nifty.rolling(\"5d\").mean()"
      ],
      "execution_count": null,
      "outputs": []
    },
    {
      "cell_type": "code",
      "metadata": {
        "id": "AQOZRllP2nhy",
        "colab_type": "code",
        "colab": {}
      },
      "source": [
        "dow = new_nifty.copy()"
      ],
      "execution_count": null,
      "outputs": []
    },
    {
      "cell_type": "code",
      "metadata": {
        "id": "PRHh_9MRwrbZ",
        "colab_type": "code",
        "colab": {}
      },
      "source": [
        "for i in dow.index:\n",
        "  dow[i] = i.dayofweek"
      ],
      "execution_count": null,
      "outputs": []
    },
    {
      "cell_type": "code",
      "metadata": {
        "id": "nRWI5-MbwsJa",
        "colab_type": "code",
        "colab": {}
      },
      "source": [
        "dow"
      ],
      "execution_count": null,
      "outputs": []
    },
    {
      "cell_type": "code",
      "metadata": {
        "id": "0nh_I3j3xAYX",
        "colab_type": "code",
        "colab": {}
      },
      "source": [
        "new_nifty[dow == 4]"
      ],
      "execution_count": null,
      "outputs": []
    },
    {
      "cell_type": "code",
      "metadata": {
        "id": "EKKVrPNPxO4H",
        "colab_type": "code",
        "colab": {}
      },
      "source": [
        "o = pd.Series(\"a\" , index=[1,2,3])"
      ],
      "execution_count": null,
      "outputs": []
    },
    {
      "cell_type": "code",
      "metadata": {
        "id": "M3ZDGIHrx4HR",
        "colab_type": "code",
        "colab": {}
      },
      "source": [
        "data = [1,2,3,4]"
      ],
      "execution_count": null,
      "outputs": []
    },
    {
      "cell_type": "code",
      "metadata": {
        "id": "elEBwzreyHBf",
        "colab_type": "code",
        "colab": {}
      },
      "source": [
        "s = pd.Series(data , index=[1,2,3,4])"
      ],
      "execution_count": null,
      "outputs": []
    },
    {
      "cell_type": "code",
      "metadata": {
        "id": "XmjKjDvAyYOn",
        "colab_type": "code",
        "colab": {}
      },
      "source": [
        "b = (s>2).any()"
      ],
      "execution_count": null,
      "outputs": []
    },
    {
      "cell_type": "code",
      "metadata": {
        "id": "wTl6Vgl2ycno",
        "colab_type": "code",
        "colab": {
          "base_uri": "https://localhost:8080/",
          "height": 34
        },
        "outputId": "4e644a33-de20-403b-e0f3-685211cc957d"
      },
      "source": [
        "b"
      ],
      "execution_count": null,
      "outputs": [
        {
          "output_type": "execute_result",
          "data": {
            "text/plain": [
              "True"
            ]
          },
          "metadata": {
            "tags": []
          },
          "execution_count": 39
        }
      ]
    },
    {
      "cell_type": "code",
      "metadata": {
        "id": "4kofy6_TydJ1",
        "colab_type": "code",
        "colab": {}
      },
      "source": [
        ""
      ],
      "execution_count": null,
      "outputs": []
    },
    {
      "cell_type": "code",
      "metadata": {
        "id": "nkBrXOIeyla4",
        "colab_type": "code",
        "colab": {}
      },
      "source": [
        ""
      ],
      "execution_count": null,
      "outputs": []
    }
  ]
}